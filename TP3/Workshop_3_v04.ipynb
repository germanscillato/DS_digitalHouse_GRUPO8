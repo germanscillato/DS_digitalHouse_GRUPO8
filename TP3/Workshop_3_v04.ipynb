{
 "cells": [
  {
   "cell_type": "markdown",
   "id": "5a78fc61",
   "metadata": {},
   "source": [
    "\n",
    "\n",
    "\n",
    "# TRABAJO PRACTICO - 3: GRUPO 8 \n",
    "\n",
    "Autores:\n",
    "- Choconi Lucas\n",
    "- Berra Eliel \n",
    "- Mina Federico\n",
    "- Scillato German\n",
    "\n"
   ]
  },
  {
   "cell_type": "markdown",
   "id": "307e5b0d",
   "metadata": {},
   "source": [
    "### Se realizan las importaciones necesarias"
   ]
  },
  {
   "cell_type": "code",
   "execution_count": 2,
   "id": "34872437",
   "metadata": {},
   "outputs": [
    {
     "name": "stdout",
     "output_type": "stream",
     "text": [
      "Collecting mixed-naive-bayes\n",
      "  Downloading mixed_naive_bayes-0.0.1-py3-none-any.whl (8.9 kB)\n",
      "Requirement already satisfied: scikit-learn>=0.20.2 in c:\\users\\usuario\\.conda\\envs\\dhdsblend2021_geopandas\\lib\\site-packages (from mixed-naive-bayes) (1.0.2)\n",
      "Requirement already satisfied: numpy>=1.16.1 in c:\\users\\usuario\\.conda\\envs\\dhdsblend2021_geopandas\\lib\\site-packages (from mixed-naive-bayes) (1.21.5)\n",
      "Requirement already satisfied: threadpoolctl>=2.0.0 in c:\\users\\usuario\\.conda\\envs\\dhdsblend2021_geopandas\\lib\\site-packages (from scikit-learn>=0.20.2->mixed-naive-bayes) (3.1.0)\n",
      "Requirement already satisfied: scipy>=1.1.0 in c:\\users\\usuario\\.conda\\envs\\dhdsblend2021_geopandas\\lib\\site-packages (from scikit-learn>=0.20.2->mixed-naive-bayes) (1.7.3)\n",
      "Requirement already satisfied: joblib>=0.11 in c:\\users\\usuario\\.conda\\envs\\dhdsblend2021_geopandas\\lib\\site-packages (from scikit-learn>=0.20.2->mixed-naive-bayes) (1.1.0)\n",
      "Installing collected packages: mixed-naive-bayes\n",
      "Successfully installed mixed-naive-bayes-0.0.1\n"
     ]
    }
   ],
   "source": [
    "import pandas as pd\n",
    "import numpy as np\n",
    "import matplotlib.pyplot as plt\n",
    "from matplotlib.colors import ListedColormap, LinearSegmentedColormap\n",
    "import seaborn as sns\n",
    "from sklearn.preprocessing import StandardScaler \n",
    "from sklearn.model_selection import train_test_split\n",
    "from sklearn.metrics import accuracy_score, recall_score, confusion_matrix\n",
    "from sklearn.naive_bayes import GaussianNB\n",
    "!pip install mixed-naive-bayes\n",
    "from mixed_naive_bayes import MixedNB\n",
    "from sklearn.linear_model import LogisticRegression\n",
    "from sklearn.neighbors import KNeighborsClassifier\n",
    "from sklearn.model_selection import cross_val_score, train_test_split\n",
    "from sklearn.model_selection import StratifiedKFold\n",
    "import warnings\n",
    "warnings.filterwarnings('ignore')\n",
    "from sklearn.model_selection import GridSearchCV\n",
    "from sklearn.metrics import classification_report\n",
    "from sklearn.metrics import roc_curve"
   ]
  },
  {
   "cell_type": "markdown",
   "id": "32b77279",
   "metadata": {},
   "source": [
    "Tomamos el dataset de https://www.kaggle.com/datasets/fedesoriano/heart-failure-prediction\n",
    "\n",
    "Debajo se describe el dataset y los atributos.\n",
    "\n",
    "## Context\n",
    "Cardiovascular diseases (CVDs) are the number 1 cause of death globally, taking an estimated 17.9 million lives each year, which accounts for 31% of all deaths worldwide. Four out of 5CVD deaths are due to heart attacks and strokes, and one-third of these deaths occur prematurely in people under 70 years of age. Heart failure is a common event caused by CVDs and this dataset contains 11 features that can be used to predict a possible heart disease.\n",
    "\n",
    "People with cardiovascular disease or who are at high cardiovascular risk (due to the presence of one or more risk factors such as hypertension, diabetes, hyperlipidaemia or already established disease) need early detection and management wherein a machine learning model can be of great help."
   ]
  },
  {
   "cell_type": "code",
   "execution_count": 3,
   "id": "aa7f1c6b",
   "metadata": {},
   "outputs": [
    {
     "data": {
      "text/html": [
       "<div>\n",
       "<style scoped>\n",
       "    .dataframe tbody tr th:only-of-type {\n",
       "        vertical-align: middle;\n",
       "    }\n",
       "\n",
       "    .dataframe tbody tr th {\n",
       "        vertical-align: top;\n",
       "    }\n",
       "\n",
       "    .dataframe thead th {\n",
       "        text-align: right;\n",
       "    }\n",
       "</style>\n",
       "<table border=\"1\" class=\"dataframe\">\n",
       "  <thead>\n",
       "    <tr style=\"text-align: right;\">\n",
       "      <th></th>\n",
       "      <th>Age</th>\n",
       "      <th>Sex</th>\n",
       "      <th>ChestPainType</th>\n",
       "      <th>RestingBP</th>\n",
       "      <th>Cholesterol</th>\n",
       "      <th>FastingBS</th>\n",
       "      <th>RestingECG</th>\n",
       "      <th>MaxHR</th>\n",
       "      <th>ExerciseAngina</th>\n",
       "      <th>Oldpeak</th>\n",
       "      <th>ST_Slope</th>\n",
       "      <th>HeartDisease</th>\n",
       "    </tr>\n",
       "  </thead>\n",
       "  <tbody>\n",
       "    <tr>\n",
       "      <th>0</th>\n",
       "      <td>40</td>\n",
       "      <td>M</td>\n",
       "      <td>ATA</td>\n",
       "      <td>140</td>\n",
       "      <td>289</td>\n",
       "      <td>0</td>\n",
       "      <td>Normal</td>\n",
       "      <td>172</td>\n",
       "      <td>N</td>\n",
       "      <td>0.0</td>\n",
       "      <td>Up</td>\n",
       "      <td>0</td>\n",
       "    </tr>\n",
       "    <tr>\n",
       "      <th>1</th>\n",
       "      <td>49</td>\n",
       "      <td>F</td>\n",
       "      <td>NAP</td>\n",
       "      <td>160</td>\n",
       "      <td>180</td>\n",
       "      <td>0</td>\n",
       "      <td>Normal</td>\n",
       "      <td>156</td>\n",
       "      <td>N</td>\n",
       "      <td>1.0</td>\n",
       "      <td>Flat</td>\n",
       "      <td>1</td>\n",
       "    </tr>\n",
       "    <tr>\n",
       "      <th>2</th>\n",
       "      <td>37</td>\n",
       "      <td>M</td>\n",
       "      <td>ATA</td>\n",
       "      <td>130</td>\n",
       "      <td>283</td>\n",
       "      <td>0</td>\n",
       "      <td>ST</td>\n",
       "      <td>98</td>\n",
       "      <td>N</td>\n",
       "      <td>0.0</td>\n",
       "      <td>Up</td>\n",
       "      <td>0</td>\n",
       "    </tr>\n",
       "    <tr>\n",
       "      <th>3</th>\n",
       "      <td>48</td>\n",
       "      <td>F</td>\n",
       "      <td>ASY</td>\n",
       "      <td>138</td>\n",
       "      <td>214</td>\n",
       "      <td>0</td>\n",
       "      <td>Normal</td>\n",
       "      <td>108</td>\n",
       "      <td>Y</td>\n",
       "      <td>1.5</td>\n",
       "      <td>Flat</td>\n",
       "      <td>1</td>\n",
       "    </tr>\n",
       "    <tr>\n",
       "      <th>4</th>\n",
       "      <td>54</td>\n",
       "      <td>M</td>\n",
       "      <td>NAP</td>\n",
       "      <td>150</td>\n",
       "      <td>195</td>\n",
       "      <td>0</td>\n",
       "      <td>Normal</td>\n",
       "      <td>122</td>\n",
       "      <td>N</td>\n",
       "      <td>0.0</td>\n",
       "      <td>Up</td>\n",
       "      <td>0</td>\n",
       "    </tr>\n",
       "  </tbody>\n",
       "</table>\n",
       "</div>"
      ],
      "text/plain": [
       "   Age Sex ChestPainType  RestingBP  Cholesterol  FastingBS RestingECG  MaxHR  \\\n",
       "0   40   M           ATA        140          289          0     Normal    172   \n",
       "1   49   F           NAP        160          180          0     Normal    156   \n",
       "2   37   M           ATA        130          283          0         ST     98   \n",
       "3   48   F           ASY        138          214          0     Normal    108   \n",
       "4   54   M           NAP        150          195          0     Normal    122   \n",
       "\n",
       "  ExerciseAngina  Oldpeak ST_Slope  HeartDisease  \n",
       "0              N      0.0       Up             0  \n",
       "1              N      1.0     Flat             1  \n",
       "2              N      0.0       Up             0  \n",
       "3              Y      1.5     Flat             1  \n",
       "4              N      0.0       Up             0  "
      ]
     },
     "execution_count": 3,
     "metadata": {},
     "output_type": "execute_result"
    }
   ],
   "source": [
    "data_location = \"Datasets\\heart.csv\"\n",
    "data = pd.read_csv(data_location)\n",
    "data.head(5)"
   ]
  },
  {
   "cell_type": "markdown",
   "id": "eb994f19",
   "metadata": {},
   "source": [
    "## Attribute Information\n",
    "- Age: age of the patient [years]\n",
    "- Sex: sex of the patient [M: Male, F: Female]\n",
    "- ChestPainType: chest pain type [TA: Typical Angina, ATA: Atypical Angina, NAP: Non-Anginal Pain, ASY: Asymptomatic]\n",
    "- RestingBP: resting blood pressure [mm Hg]\n",
    "- Cholesterol: serum cholesterol [mm/dl]\n",
    "- FastingBS: fasting blood sugar [1: if FastingBS > 120 mg/dl, 0: otherwise]\n",
    "- RestingECG: resting electrocardiogram results [Normal: Normal, ST: having ST-T wave abnormality (T wave inversions and/or ST elevation or depression of > 0.05 mV), LVH: showing probable or definite left ventricular hypertrophy by Estes' criteria]\n",
    "- MaxHR: maximum heart rate achieved [Numeric value between 60 and 202]\n",
    "- ExerciseAngina: exercise-induced angina [Y: Yes, N: No]\n",
    "- Oldpeak: oldpeak = ST [Numeric value measured in depression]\n",
    "- ST_Slope: the slope of the peak exercise ST segment [Up: upsloping, Flat: flat, Down: downsloping]\n",
    "- HeartDisease: output class [1: heart disease, 0: Normal]"
   ]
  },
  {
   "cell_type": "markdown",
   "id": "64cceaee",
   "metadata": {},
   "source": [
    "## Source\n",
    "This dataset was created by combining different datasets already available independently but not combined before. In this dataset, 5 heart datasets are combined over 11 common features which makes it the largest heart disease dataset available so far for research purposes. The five datasets used for its curation are:\n",
    "\n",
    "- Cleveland: 303 observations\n",
    "- Hungarian: 294 observations\n",
    "- Switzerland: 123 observations\n",
    "- Long Beach VA: 200 observations\n",
    "- Stalog (Heart) Data Set: 270 observations\n",
    "- Total: 1190 observations\n",
    "- Duplicated: 272 observations\n",
    "\n",
    "Final dataset: 918 observations\n",
    "\n",
    "Every dataset used can be found under the Index of heart disease datasets from UCI Machine Learning Repository on the following link: https://archive.ics.uci.edu/ml/machine-learning-databases/heart-disease/"
   ]
  },
  {
   "cell_type": "markdown",
   "id": "e4eda6cd",
   "metadata": {},
   "source": [
    "### Observamos la distribución inicial de los datos"
   ]
  },
  {
   "cell_type": "code",
   "execution_count": 4,
   "id": "ffe2f79e",
   "metadata": {
    "jupyter": {
     "source_hidden": true
    }
   },
   "outputs": [
    {
     "data": {
      "image/png": "[encoded data removed]",
      "text/plain": [
       "<Figure size 2160x1080 with 12 Axes>"
      ]
     },
     "metadata": {
      "needs_background": "light"
     },
     "output_type": "display_data"
    }
   ],
   "source": [
    "### Observamos la distribución inicial de los datos\n",
    "\n",
    "fig, axs = plt.subplots(3, 4,figsize=(30,15))\n",
    "\n",
    "\n",
    "sns.histplot(data=data, x=\"Age\", hue=\"HeartDisease\", ax=axs[0,0])\n",
    "sns.histplot(data=data, x=\"Sex\", hue=\"HeartDisease\", ax=axs[0,1])\n",
    "sns.histplot(data=data, x=\"ChestPainType\", hue=\"HeartDisease\", ax=axs[0,2])\n",
    "sns.histplot(data=data, x=\"RestingBP\", hue=\"HeartDisease\", ax=axs[0,3])\n",
    "sns.histplot(data=data, x=\"Cholesterol\", hue=\"HeartDisease\", ax=axs[1,0])\n",
    "sns.histplot(data=data, x=\"FastingBS\", hue=\"HeartDisease\", ax=axs[1,1])\n",
    "sns.histplot(data=data, x=\"RestingECG\", hue=\"HeartDisease\", ax=axs[1,2])\n",
    "sns.histplot(data=data, x=\"MaxHR\", hue=\"HeartDisease\", ax=axs[1,3])\n",
    "sns.histplot(data=data, x=\"ExerciseAngina\", hue=\"HeartDisease\", ax=axs[2,0])\n",
    "sns.histplot(data=data, x=\"Oldpeak\", hue=\"HeartDisease\", ax=axs[2,1])\n",
    "sns.histplot(data=data, x=\"ST_Slope\", hue=\"HeartDisease\", ax=axs[2,2])\n",
    "sns.countplot(data=data, x=\"HeartDisease\", ax=axs[2,3])\n",
    "\n",
    "for p in axs[2,3].patches:\n",
    "       axs[2,3].annotate('{:.1f}'.format(p.get_height()), (p.get_x()+0.25, p.get_height()+0.01))\n",
    "                                                 "
   ]
  },
  {
   "cell_type": "markdown",
   "id": "0d549747",
   "metadata": {},
   "source": [
    "Analizamos las entradas con colesterol en 0 y las eliminamos ya que esos valores son fisiológicamente imposibles."
   ]
  },
  {
   "cell_type": "code",
   "execution_count": 5,
   "id": "9a83353a",
   "metadata": {},
   "outputs": [
    {
     "data": {
      "text/plain": [
       "1    152\n",
       "0     20\n",
       "Name: HeartDisease, dtype: int64"
      ]
     },
     "execution_count": 5,
     "metadata": {},
     "output_type": "execute_result"
    }
   ],
   "source": [
    "data[data.Cholesterol==0].HeartDisease.value_counts()"
   ]
  },
  {
   "cell_type": "code",
   "execution_count": 6,
   "id": "26b9ffca",
   "metadata": {},
   "outputs": [],
   "source": [
    "data = data[data.Cholesterol!=0]"
   ]
  },
  {
   "cell_type": "markdown",
   "id": "c876da24",
   "metadata": {},
   "source": [
    "### Volvemos a observar la distribución de los datos."
   ]
  },
  {
   "cell_type": "code",
   "execution_count": 7,
   "id": "b78cca84",
   "metadata": {
    "jupyter": {
     "source_hidden": true
    }
   },
   "outputs": [
    {
     "data": {
      "image/png": "[encoded data removed]",
      "text/plain": [
       "<Figure size 2160x1080 with 12 Axes>"
      ]
     },
     "metadata": {
      "needs_background": "light"
     },
     "output_type": "display_data"
    }
   ],
   "source": [
    "fig, axs = plt.subplots(3, 4,figsize=(30,15))\n",
    "\n",
    "sns.histplot(data=data, x=\"Age\", hue=\"HeartDisease\", ax=axs[0,0])\n",
    "sns.histplot(data=data, x=\"Sex\", hue=\"HeartDisease\", ax=axs[0,1])\n",
    "sns.histplot(data=data, x=\"ChestPainType\", hue=\"HeartDisease\", ax=axs[0,2])\n",
    "sns.histplot(data=data, x=\"RestingBP\", hue=\"HeartDisease\", ax=axs[0,3])\n",
    "sns.histplot(data=data, x=\"Cholesterol\", hue=\"HeartDisease\", ax=axs[1,0])\n",
    "sns.histplot(data=data, x=\"FastingBS\", hue=\"HeartDisease\", ax=axs[1,1])\n",
    "sns.histplot(data=data, x=\"RestingECG\", hue=\"HeartDisease\", ax=axs[1,2])\n",
    "sns.histplot(data=data, x=\"MaxHR\", hue=\"HeartDisease\", ax=axs[1,3])\n",
    "sns.histplot(data=data, x=\"ExerciseAngina\", hue=\"HeartDisease\", ax=axs[2,0])\n",
    "sns.histplot(data=data, x=\"Oldpeak\", hue=\"HeartDisease\", ax=axs[2,1])\n",
    "sns.histplot(data=data, x=\"ST_Slope\", hue=\"HeartDisease\", ax=axs[2,2])\n",
    "sns.countplot(data=data, x=\"HeartDisease\", ax=axs[2,3])\n",
    "\n",
    "for p in axs[2,3].patches:\n",
    "       axs[2,3].annotate('{:.1f}'.format(p.get_height()), (p.get_x()+0.25, p.get_height()+0.01))"
   ]
  },
  {
   "cell_type": "markdown",
   "id": "f6c61a61",
   "metadata": {},
   "source": [
    "## Creamos las variables dummies"
   ]
  },
  {
   "cell_type": "code",
   "execution_count": 8,
   "id": "a9b2246e",
   "metadata": {},
   "outputs": [],
   "source": [
    "data = pd.get_dummies(data, drop_first=True)"
   ]
  },
  {
   "cell_type": "code",
   "execution_count": 9,
   "id": "ddf560a9",
   "metadata": {},
   "outputs": [
    {
     "data": {
      "text/html": [
       "<div>\n",
       "<style scoped>\n",
       "    .dataframe tbody tr th:only-of-type {\n",
       "        vertical-align: middle;\n",
       "    }\n",
       "\n",
       "    .dataframe tbody tr th {\n",
       "        vertical-align: top;\n",
       "    }\n",
       "\n",
       "    .dataframe thead th {\n",
       "        text-align: right;\n",
       "    }\n",
       "</style>\n",
       "<table border=\"1\" class=\"dataframe\">\n",
       "  <thead>\n",
       "    <tr style=\"text-align: right;\">\n",
       "      <th></th>\n",
       "      <th>Age</th>\n",
       "      <th>RestingBP</th>\n",
       "      <th>Cholesterol</th>\n",
       "      <th>FastingBS</th>\n",
       "      <th>MaxHR</th>\n",
       "      <th>Oldpeak</th>\n",
       "      <th>HeartDisease</th>\n",
       "      <th>Sex_M</th>\n",
       "      <th>ChestPainType_ATA</th>\n",
       "      <th>ChestPainType_NAP</th>\n",
       "      <th>ChestPainType_TA</th>\n",
       "      <th>RestingECG_Normal</th>\n",
       "      <th>RestingECG_ST</th>\n",
       "      <th>ExerciseAngina_Y</th>\n",
       "      <th>ST_Slope_Flat</th>\n",
       "      <th>ST_Slope_Up</th>\n",
       "    </tr>\n",
       "  </thead>\n",
       "  <tbody>\n",
       "    <tr>\n",
       "      <th>0</th>\n",
       "      <td>40</td>\n",
       "      <td>140</td>\n",
       "      <td>289</td>\n",
       "      <td>0</td>\n",
       "      <td>172</td>\n",
       "      <td>0.0</td>\n",
       "      <td>0</td>\n",
       "      <td>1</td>\n",
       "      <td>1</td>\n",
       "      <td>0</td>\n",
       "      <td>0</td>\n",
       "      <td>1</td>\n",
       "      <td>0</td>\n",
       "      <td>0</td>\n",
       "      <td>0</td>\n",
       "      <td>1</td>\n",
       "    </tr>\n",
       "    <tr>\n",
       "      <th>1</th>\n",
       "      <td>49</td>\n",
       "      <td>160</td>\n",
       "      <td>180</td>\n",
       "      <td>0</td>\n",
       "      <td>156</td>\n",
       "      <td>1.0</td>\n",
       "      <td>1</td>\n",
       "      <td>0</td>\n",
       "      <td>0</td>\n",
       "      <td>1</td>\n",
       "      <td>0</td>\n",
       "      <td>1</td>\n",
       "      <td>0</td>\n",
       "      <td>0</td>\n",
       "      <td>1</td>\n",
       "      <td>0</td>\n",
       "    </tr>\n",
       "  </tbody>\n",
       "</table>\n",
       "</div>"
      ],
      "text/plain": [
       "   Age  RestingBP  Cholesterol  FastingBS  MaxHR  Oldpeak  HeartDisease  \\\n",
       "0   40        140          289          0    172      0.0             0   \n",
       "1   49        160          180          0    156      1.0             1   \n",
       "\n",
       "   Sex_M  ChestPainType_ATA  ChestPainType_NAP  ChestPainType_TA  \\\n",
       "0      1                  1                  0                 0   \n",
       "1      0                  0                  1                 0   \n",
       "\n",
       "   RestingECG_Normal  RestingECG_ST  ExerciseAngina_Y  ST_Slope_Flat  \\\n",
       "0                  1              0                 0              0   \n",
       "1                  1              0                 0              1   \n",
       "\n",
       "   ST_Slope_Up  \n",
       "0            1  \n",
       "1            0  "
      ]
     },
     "execution_count": 9,
     "metadata": {},
     "output_type": "execute_result"
    }
   ],
   "source": [
    "data.head(2)"
   ]
  },
  {
   "cell_type": "markdown",
   "id": "9d29a148",
   "metadata": {},
   "source": [
    "## Se define variable target (HeartDisease) y features"
   ]
  },
  {
   "cell_type": "code",
   "execution_count": 10,
   "id": "f5ec2811",
   "metadata": {},
   "outputs": [],
   "source": [
    "X = data.drop(columns=['HeartDisease'])\n",
    "y = data.HeartDisease"
   ]
  },
  {
   "cell_type": "code",
   "execution_count": 11,
   "id": "92aeb737",
   "metadata": {},
   "outputs": [
    {
     "data": {
      "text/plain": [
       "0    0.52\n",
       "1    0.48\n",
       "Name: HeartDisease, dtype: float64"
      ]
     },
     "execution_count": 11,
     "metadata": {},
     "output_type": "execute_result"
    }
   ],
   "source": [
    "round(y.value_counts(normalize=True), 2)"
   ]
  },
  {
   "cell_type": "markdown",
   "id": "cd3ae6d6",
   "metadata": {},
   "source": [
    "La hipotesis nula seria el valor con mayor porcentaje de la muestra, en nuestro caso es 0 (que implica que no haya evento cardíaco), y obtuvo un valor de %52. Además, observamos que la variable target está bien segmentada."
   ]
  },
  {
   "cell_type": "markdown",
   "id": "73c201ec",
   "metadata": {},
   "source": [
    "## Estandarizamos las variables numéricas"
   ]
  },
  {
   "cell_type": "code",
   "execution_count": 12,
   "id": "5f9195ec",
   "metadata": {},
   "outputs": [],
   "source": [
    "scaler=StandardScaler()\n",
    "\n",
    "X_sc=scaler.fit_transform(X)"
   ]
  },
  {
   "cell_type": "markdown",
   "id": "9fb9072a",
   "metadata": {},
   "source": [
    "## Separamos el dataset de entrenamiento."
   ]
  },
  {
   "cell_type": "code",
   "execution_count": 17,
   "id": "7be64da9",
   "metadata": {},
   "outputs": [],
   "source": [
    "X_sc_train, X_sc_test, y_train, y_test = train_test_split(X_sc, y , random_state=15)"
   ]
  },
  {
   "cell_type": "markdown",
   "id": "ffafa56d",
   "metadata": {},
   "source": [
    "## Creamos un modelo Gaussiano de Naive Bayes para probar inicialmente."
   ]
  },
  {
   "cell_type": "code",
   "execution_count": 18,
   "id": "aa9da87e",
   "metadata": {},
   "outputs": [
    {
     "data": {
      "text/plain": [
       "GaussianNB()"
      ]
     },
     "execution_count": 18,
     "metadata": {},
     "output_type": "execute_result"
    }
   ],
   "source": [
    "model = GaussianNB()\n",
    "model.fit(X_sc_train, y_train)"
   ]
  },
  {
   "cell_type": "code",
   "execution_count": 19,
   "id": "0b7ddaf7",
   "metadata": {
    "scrolled": true
   },
   "outputs": [
    {
     "name": "stdout",
     "output_type": "stream",
     "text": [
      "Accuracy: 0.81\n",
      "Recall: 0.88\n"
     ]
    }
   ],
   "source": [
    "y_pred = model.predict(X_sc_test)\n",
    "print(\"Accuracy:\", accuracy_score(y_test, y_pred).round(2))\n",
    "print(\"Recall:\", round(recall_score(y_test, y_pred), 2))"
   ]
  },
  {
   "cell_type": "code",
   "execution_count": 20,
   "id": "ef64ccfa",
   "metadata": {},
   "outputs": [
    {
     "data": {
      "image/png": "[encoded data removed]",
      "text/plain": [
       "<Figure size 432x288 with 1 Axes>"
      ]
     },
     "metadata": {
      "needs_background": "light"
     },
     "output_type": "display_data"
    }
   ],
   "source": [
    "myColors = ((0.15, 0.40, 0.99, 0.36), (0.15, 0.60, 0.50, 0.8), (0, 0.40, 0.75, 0.88))\n",
    "cmap = LinearSegmentedColormap.from_list('Custom', myColors,10)\n",
    "\n",
    "cm = confusion_matrix(y_test, y_pred)\n",
    "axis_labels = np.sort(y.unique())\n",
    "sns.heatmap(cm, xticklabels=axis_labels, yticklabels=axis_labels, cbar=False, annot=True, cmap=cmap)\n",
    "plt.ylabel('Etiquetas reales')\n",
    "plt.xlabel('Etiquetas predichas');"
   ]
  },
  {
   "cell_type": "markdown",
   "id": "51ea86ea",
   "metadata": {},
   "source": [
    "## Vamos a probar un modelo mixto de Naive Bayes para evaluar si obtenemos mejores métricas"
   ]
  },
  {
   "cell_type": "code",
   "execution_count": 21,
   "id": "1c76dc76",
   "metadata": {},
   "outputs": [],
   "source": [
    "# Como el modelo mixto utiliza variables categóricas vamos a utilizar las features sin estandarizar\n",
    "X_not_sc_train, X_not_sc_test, y_not_sc_train, y_not_sc_test = train_test_split(X, y, random_state=10)"
   ]
  },
  {
   "cell_type": "code",
   "execution_count": 22,
   "id": "4c8a4c8a",
   "metadata": {},
   "outputs": [
    {
     "name": "stdout",
     "output_type": "stream",
     "text": [
      "[2 2 2 2 2 2 2 2 2 2]\n",
      "Accuracy: 0.88\n",
      "Recall: 0.91\n"
     ]
    }
   ],
   "source": [
    "# Generamos los índices de las columnas categóricas para especificarlas como argumento en el modelo\n",
    "i_categorical_cols = [i for i, col in enumerate(X_not_sc_train.columns) \\\n",
    "                      if len(np.unique(X_not_sc_train[col])) == 2]\n",
    "naive_mixed = MixedNB(categorical_features = i_categorical_cols)\n",
    "naive_mixed.fit(X_not_sc_train, y_not_sc_train)\n",
    "y_pred = naive_mixed.predict(X_not_sc_test)\n",
    "print(\"Accuracy:\", accuracy_score(y_not_sc_test, y_pred).round(2))\n",
    "print(\"Recall:\", round(recall_score(y_not_sc_test, y_pred), 2))"
   ]
  },
  {
   "cell_type": "code",
   "execution_count": 23,
   "id": "c666b619",
   "metadata": {},
   "outputs": [
    {
     "data": {
      "text/plain": [
       "Text(0.5, 15.0, 'Etiquetas predichas')"
      ]
     },
     "execution_count": 23,
     "metadata": {},
     "output_type": "execute_result"
    },
    {
     "data": {
      "image/png": "[encoded data removed]",
      "text/plain": [
       "<Figure size 432x288 with 1 Axes>"
      ]
     },
     "metadata": {
      "needs_background": "light"
     },
     "output_type": "display_data"
    }
   ],
   "source": [
    "cm = confusion_matrix(y_not_sc_test, y_pred)\n",
    "sns.heatmap(cm, xticklabels=axis_labels, yticklabels=axis_labels, cbar=False, annot=True, cmap=cmap)\n",
    "plt.ylabel('Etiquetas reales')\n",
    "plt.xlabel('Etiquetas predichas')"
   ]
  },
  {
   "cell_type": "markdown",
   "id": "254bba5e",
   "metadata": {},
   "source": [
    "Las métricas del modelo Mixto dan mejores pero probaremos con otros modelos para validar la performance."
   ]
  },
  {
   "cell_type": "markdown",
   "id": "9dc2c9f1",
   "metadata": {},
   "source": [
    "## El siguiente a aplicar sera KNN"
   ]
  },
  {
   "cell_type": "code",
   "execution_count": 24,
   "id": "92c1767d",
   "metadata": {},
   "outputs": [],
   "source": [
    "knn = KNeighborsClassifier(n_neighbors=5)"
   ]
  },
  {
   "cell_type": "code",
   "execution_count": 25,
   "id": "f70e921f",
   "metadata": {},
   "outputs": [
    {
     "name": "stdout",
     "output_type": "stream",
     "text": [
      "Accuracy: 0.84\n",
      "Recall: 0.88\n"
     ]
    }
   ],
   "source": [
    "# Ajustamos a los datos de entrenamiento.\n",
    "knn.fit(X_sc_train, y_train);\n",
    "\n",
    "# Predecimos etiquetas para los datos de test.\n",
    "y_pred = knn.predict(X_sc_test)\n",
    "print(\"Accuracy:\", accuracy_score(y_test, y_pred).round(2))\n",
    "print(\"Recall:\", round(recall_score(y_test, y_pred), 2))"
   ]
  },
  {
   "cell_type": "code",
   "execution_count": 26,
   "id": "69988710",
   "metadata": {},
   "outputs": [
    {
     "data": {
      "image/png": "[encoded data removed]",
      "text/plain": [
       "<Figure size 432x288 with 1 Axes>"
      ]
     },
     "metadata": {
      "needs_background": "light"
     },
     "output_type": "display_data"
    }
   ],
   "source": [
    "cm = confusion_matrix(y_test, y_pred)\n",
    "sns.heatmap(cm, xticklabels=axis_labels, yticklabels=axis_labels, cbar=False, annot=True, cmap=cmap)\n",
    "plt.ylabel('Etiquetas reales')\n",
    "plt.xlabel('Etiquetas predichas');"
   ]
  },
  {
   "cell_type": "markdown",
   "id": "795d5009",
   "metadata": {},
   "source": [
    "## Por último probaremos con Regresion logistica."
   ]
  },
  {
   "cell_type": "code",
   "execution_count": 27,
   "id": "a5e3c7c7",
   "metadata": {},
   "outputs": [
    {
     "name": "stdout",
     "output_type": "stream",
     "text": [
      "Accuracy: 0.82\n",
      "Recall: 0.86\n"
     ]
    }
   ],
   "source": [
    "logistic_regression = LogisticRegression(penalty='none') # sin regularización\n",
    "logistic_regression.fit(X_sc_train, y_train);\n",
    "y_pred = logistic_regression.predict(X_sc_test)\n",
    "print(\"Accuracy:\", accuracy_score(y_test, y_pred).round(2))\n",
    "print(\"Recall:\", round(recall_score(y_test, y_pred), 2))"
   ]
  },
  {
   "cell_type": "code",
   "execution_count": 28,
   "id": "fc6ae353",
   "metadata": {},
   "outputs": [
    {
     "data": {
      "image/png": "[encoded data removed]",
      "text/plain": [
       "<Figure size 432x288 with 1 Axes>"
      ]
     },
     "metadata": {
      "needs_background": "light"
     },
     "output_type": "display_data"
    }
   ],
   "source": [
    "cm = confusion_matrix(y_test, y_pred)\n",
    "sns.heatmap(cm, xticklabels=axis_labels, yticklabels=axis_labels, cbar=False, annot=True, cmap=cmap)\n",
    "plt.ylabel('Etiquetas reales')\n",
    "plt.xlabel('Etiquetas predichas');"
   ]
  },
  {
   "cell_type": "markdown",
   "id": "832db8ca",
   "metadata": {},
   "source": [
    "Comparamos con el modelo regularizado con Lasso"
   ]
  },
  {
   "cell_type": "code",
   "execution_count": 29,
   "id": "94ebafac",
   "metadata": {},
   "outputs": [
    {
     "name": "stdout",
     "output_type": "stream",
     "text": [
      "Accuracy: 0.82\n",
      "Recall: 0.86\n"
     ]
    },
    {
     "data": {
      "image/png": "[encoded data removed]",
      "text/plain": [
       "<Figure size 432x288 with 1 Axes>"
      ]
     },
     "metadata": {
      "needs_background": "light"
     },
     "output_type": "display_data"
    }
   ],
   "source": [
    "logistic_regression = LogisticRegression(penalty='l2') \n",
    "logistic_regression.fit(X_sc_train, y_train);\n",
    "y_pred = logistic_regression.predict(X_sc_test)\n",
    "print(\"Accuracy:\", accuracy_score(y_test, y_pred).round(2))\n",
    "print(\"Recall:\", round(recall_score(y_test, y_pred), 2))\n",
    "\n",
    "cm = confusion_matrix(y_test, y_pred)\n",
    "sns.heatmap(cm, xticklabels=axis_labels, yticklabels=axis_labels, cbar=False, annot=True, cmap=cmap)\n",
    "plt.ylabel('Etiquetas reales')\n",
    "plt.xlabel('Etiquetas predichas');"
   ]
  },
  {
   "cell_type": "markdown",
   "id": "2a6f5309",
   "metadata": {},
   "source": [
    "Observamos que los resultados regularizados y no regularizados son prácticamente iguales."
   ]
  },
  {
   "cell_type": "markdown",
   "id": "d299eccf",
   "metadata": {},
   "source": [
    "### Como el que mejor resultados preliminares dio fue Naive Mixto decidimos avanzar con KNN realizando GridSearch y CV para ver si podemos superar a Naives \n",
    "\n",
    "### El objetivo principal es reducir los falsos negativos, porque se trata de una enfermedad cardiaca, por lo tanto nos centraremos en obtener el mejor recall posible."
   ]
  },
  {
   "cell_type": "code",
   "execution_count": 30,
   "id": "d47aca8f",
   "metadata": {},
   "outputs": [],
   "source": [
    "folds=StratifiedKFold(n_splits=5, shuffle=True) \n",
    "k_range = list(range(1, 15))\n",
    "weight_options = ['uniform', 'distance']\n",
    "param_grid = dict(n_neighbors=k_range, weights=weight_options)"
   ]
  },
  {
   "cell_type": "code",
   "execution_count": 31,
   "id": "21f28c3a",
   "metadata": {},
   "outputs": [
    {
     "data": {
      "text/plain": [
       "GridSearchCV(cv=StratifiedKFold(n_splits=5, random_state=None, shuffle=True),\n",
       "             estimator=KNeighborsClassifier(),\n",
       "             param_grid={'n_neighbors': [1, 2, 3, 4, 5, 6, 7, 8, 9, 10, 11, 12,\n",
       "                                         13, 14],\n",
       "                         'weights': ['uniform', 'distance']},\n",
       "             scoring='recall')"
      ]
     },
     "execution_count": 31,
     "metadata": {},
     "output_type": "execute_result"
    }
   ],
   "source": [
    "grid = GridSearchCV(knn, param_grid, cv=folds, scoring='recall')\n",
    "grid.fit(X_sc_train, y_train)"
   ]
  },
  {
   "cell_type": "code",
   "execution_count": 32,
   "id": "ce7c4fcc",
   "metadata": {},
   "outputs": [
    {
     "name": "stdout",
     "output_type": "stream",
     "text": [
      "0.8917540181691125\n",
      "{'n_neighbors': 7, 'weights': 'distance'}\n"
     ]
    }
   ],
   "source": [
    "print(grid.best_score_)\n",
    "print(grid.best_params_)"
   ]
  },
  {
   "cell_type": "code",
   "execution_count": 33,
   "id": "d699c34d",
   "metadata": {},
   "outputs": [
    {
     "name": "stdout",
     "output_type": "stream",
     "text": [
      "Accuracy: 0.84\n",
      "Recall: 0.88\n"
     ]
    }
   ],
   "source": [
    "y_pred = grid.predict(X_sc_test)\n",
    "print(\"Accuracy:\", accuracy_score(y_test, y_pred).round(2))\n",
    "print(\"Recall:\", round(recall_score(y_test, y_pred), 2))"
   ]
  },
  {
   "cell_type": "code",
   "execution_count": 34,
   "id": "71861d93",
   "metadata": {},
   "outputs": [
    {
     "data": {
      "image/png": "[encoded data removed]",
      "text/plain": [
       "<Figure size 432x288 with 1 Axes>"
      ]
     },
     "metadata": {
      "needs_background": "light"
     },
     "output_type": "display_data"
    }
   ],
   "source": [
    "cm = confusion_matrix(y_test, y_pred)\n",
    "sns.heatmap(cm, xticklabels=axis_labels, yticklabels=axis_labels, cbar=False, annot=True, cmap=cmap)\n",
    "plt.ylabel('Etiquetas reales')\n",
    "plt.xlabel('Etiquetas predichas');"
   ]
  },
  {
   "cell_type": "markdown",
   "id": "f0a8cb30",
   "metadata": {},
   "source": [
    "## Visualizaremos la curva ROC para evaluar la performance del modelo de Naive Mixto"
   ]
  },
  {
   "cell_type": "code",
   "execution_count": 35,
   "id": "3a4a4798",
   "metadata": {},
   "outputs": [],
   "source": [
    "y_pred_proba = naive_mixed.predict_proba(X_not_sc_test)"
   ]
  },
  {
   "cell_type": "code",
   "execution_count": 36,
   "id": "696d8949",
   "metadata": {},
   "outputs": [],
   "source": [
    "fpr_log,tpr_log,thr_log = roc_curve(y_not_sc_test, y_pred_proba[:,1])"
   ]
  },
  {
   "cell_type": "code",
   "execution_count": 37,
   "id": "e8d54e38",
   "metadata": {},
   "outputs": [
    {
     "data": {
      "image/png": "[encoded data removed]",
      "text/plain": [
       "<Figure size 432x288 with 1 Axes>"
      ]
     },
     "metadata": {
      "needs_background": "light"
     },
     "output_type": "display_data"
    }
   ],
   "source": [
    "df = pd.DataFrame(dict(fpr=fpr_log, tpr=tpr_log, thr = thr_log))\n",
    "\n",
    "plt.axis([0, 1.01, 0, 1.01])\n",
    "plt.xlabel('1 - Specificty'); plt.ylabel('TPR / Sensitivity'); plt.title('ROC Curve')\n",
    "plt.plot(df['fpr'],df['tpr'])\n",
    "plt.plot(np.arange(0,1, step =0.01), np.arange(0,1, step =0.01))\n",
    "plt.show()"
   ]
  },
  {
   "cell_type": "code",
   "execution_count": 38,
   "id": "ec0c1875",
   "metadata": {},
   "outputs": [
    {
     "name": "stdout",
     "output_type": "stream",
     "text": [
      "              precision    recall  f1-score   support\n",
      "\n",
      "           0       0.93      0.86      0.89       113\n",
      "           1       0.81      0.91      0.85        74\n",
      "\n",
      "    accuracy                           0.88       187\n",
      "   macro avg       0.87      0.88      0.87       187\n",
      "weighted avg       0.88      0.88      0.88       187\n",
      "\n"
     ]
    }
   ],
   "source": [
    "y_pred_grid = naive_mixed.predict(X_not_sc_test)\n",
    "print(classification_report(y_not_sc_test, y_pred_grid))"
   ]
  },
  {
   "cell_type": "code",
   "execution_count": 39,
   "id": "6968ea5f",
   "metadata": {},
   "outputs": [
    {
     "data": {
      "text/plain": [
       "<AxesSubplot:>"
      ]
     },
     "execution_count": 39,
     "metadata": {},
     "output_type": "execute_result"
    },
    {
     "data": {
      "image/png": "[encoded data removed]",
      "text/plain": [
       "<Figure size 432x288 with 1 Axes>"
      ]
     },
     "metadata": {
      "needs_background": "light"
     },
     "output_type": "display_data"
    }
   ],
   "source": [
    "accuracy_scores = []\n",
    "recall_scores = []\n",
    "\n",
    "for i in np.linspace(0,1,100).tolist():\n",
    "    y_pred_low_ths = (y_pred_proba[:, 1] > i).astype(int)\n",
    "    ac = accuracy_score(y_not_sc_test, y_pred_low_ths)\n",
    "    accuracy_scores.append(ac)\n",
    "    rc = recall_score(y_not_sc_test, y_pred_low_ths)\n",
    "    recall_scores.append(rc)\n",
    "    \n",
    "df_scores = pd.DataFrame({'accuracy_scores': accuracy_scores, 'recall_scores':recall_scores}, index=np.linspace(0,1,100).tolist())\n",
    "\n",
    "df_scores.plot()"
   ]
  },
  {
   "cell_type": "markdown",
   "id": "0bb6da7c",
   "metadata": {},
   "source": [
    "## Buscamos el mejor umbral con el mayor recall y dentro de este el mejor accuracy"
   ]
  },
  {
   "cell_type": "code",
   "execution_count": 40,
   "id": "b55aadaa",
   "metadata": {},
   "outputs": [
    {
     "ename": "IndexError",
     "evalue": "index 0 is out of bounds for axis 0 with size 0",
     "output_type": "error",
     "traceback": [
      "\u001b[1;31m---------------------------------------------------------------------------\u001b[0m",
      "\u001b[1;31mIndexError\u001b[0m                                Traceback (most recent call last)",
      "\u001b[1;32m~\\AppData\\Local\\Temp/ipykernel_11684/350176583.py\u001b[0m in \u001b[0;36m<module>\u001b[1;34m\u001b[0m\n\u001b[0;32m      1\u001b[0m \u001b[0mdf_scores_filter\u001b[0m \u001b[1;33m=\u001b[0m \u001b[0mdf_scores\u001b[0m\u001b[1;33m[\u001b[0m\u001b[1;33m(\u001b[0m\u001b[0mdf_scores\u001b[0m\u001b[1;33m.\u001b[0m\u001b[0mindex\u001b[0m\u001b[1;33m<\u001b[0m\u001b[1;36m0.2\u001b[0m\u001b[1;33m)\u001b[0m \u001b[1;33m&\u001b[0m \u001b[1;33m(\u001b[0m\u001b[0mdf_scores\u001b[0m\u001b[1;33m.\u001b[0m\u001b[0mindex\u001b[0m\u001b[1;33m>\u001b[0m\u001b[1;36m0.1\u001b[0m\u001b[1;33m)\u001b[0m\u001b[1;33m]\u001b[0m\u001b[1;33m\u001b[0m\u001b[1;33m\u001b[0m\u001b[0m\n\u001b[0;32m      2\u001b[0m \u001b[0mdf_scores_filter\u001b[0m \u001b[1;33m=\u001b[0m \u001b[0mdf_scores_filter\u001b[0m\u001b[1;33m[\u001b[0m\u001b[0mdf_scores_filter\u001b[0m\u001b[1;33m.\u001b[0m\u001b[0mrecall_scores\u001b[0m\u001b[1;33m==\u001b[0m\u001b[0mmax\u001b[0m\u001b[1;33m(\u001b[0m\u001b[0mrecall_scores\u001b[0m\u001b[1;33m)\u001b[0m\u001b[1;33m]\u001b[0m\u001b[1;33m\u001b[0m\u001b[1;33m\u001b[0m\u001b[0m\n\u001b[1;32m----> 3\u001b[1;33m \u001b[0mbest_ths\u001b[0m \u001b[1;33m=\u001b[0m \u001b[0mdf_scores_filter\u001b[0m\u001b[1;33m.\u001b[0m\u001b[0mtail\u001b[0m\u001b[1;33m(\u001b[0m\u001b[1;36m1\u001b[0m\u001b[1;33m)\u001b[0m\u001b[1;33m.\u001b[0m\u001b[0mindex\u001b[0m\u001b[1;33m[\u001b[0m\u001b[1;36m0\u001b[0m\u001b[1;33m]\u001b[0m\u001b[1;33m\u001b[0m\u001b[1;33m\u001b[0m\u001b[0m\n\u001b[0m",
      "\u001b[1;32m~\\.conda\\envs\\dhdsblend2021_geopandas\\lib\\site-packages\\pandas\\core\\indexes\\base.py\u001b[0m in \u001b[0;36m__getitem__\u001b[1;34m(self, key)\u001b[0m\n\u001b[0;32m   4602\u001b[0m         \u001b[1;32mif\u001b[0m \u001b[0mis_scalar\u001b[0m\u001b[1;33m(\u001b[0m\u001b[0mkey\u001b[0m\u001b[1;33m)\u001b[0m\u001b[1;33m:\u001b[0m\u001b[1;33m\u001b[0m\u001b[1;33m\u001b[0m\u001b[0m\n\u001b[0;32m   4603\u001b[0m             \u001b[0mkey\u001b[0m \u001b[1;33m=\u001b[0m \u001b[0mcom\u001b[0m\u001b[1;33m.\u001b[0m\u001b[0mcast_scalar_indexer\u001b[0m\u001b[1;33m(\u001b[0m\u001b[0mkey\u001b[0m\u001b[1;33m,\u001b[0m \u001b[0mwarn_float\u001b[0m\u001b[1;33m=\u001b[0m\u001b[1;32mTrue\u001b[0m\u001b[1;33m)\u001b[0m\u001b[1;33m\u001b[0m\u001b[1;33m\u001b[0m\u001b[0m\n\u001b[1;32m-> 4604\u001b[1;33m             \u001b[1;32mreturn\u001b[0m \u001b[0mgetitem\u001b[0m\u001b[1;33m(\u001b[0m\u001b[0mkey\u001b[0m\u001b[1;33m)\u001b[0m\u001b[1;33m\u001b[0m\u001b[1;33m\u001b[0m\u001b[0m\n\u001b[0m\u001b[0;32m   4605\u001b[0m \u001b[1;33m\u001b[0m\u001b[0m\n\u001b[0;32m   4606\u001b[0m         \u001b[1;32mif\u001b[0m \u001b[0misinstance\u001b[0m\u001b[1;33m(\u001b[0m\u001b[0mkey\u001b[0m\u001b[1;33m,\u001b[0m \u001b[0mslice\u001b[0m\u001b[1;33m)\u001b[0m\u001b[1;33m:\u001b[0m\u001b[1;33m\u001b[0m\u001b[1;33m\u001b[0m\u001b[0m\n",
      "\u001b[1;31mIndexError\u001b[0m: index 0 is out of bounds for axis 0 with size 0"
     ]
    }
   ],
   "source": [
    "df_scores_filter = df_scores[(df_scores.index<0.2) & (df_scores.index>0.1)]\n",
    "df_scores_filter = df_scores_filter[df_scores_filter.recall_scores==max(recall_scores)]\n",
    "best_ths = df_scores_filter.tail(1).index[0]"
   ]
  },
  {
   "cell_type": "code",
   "execution_count": null,
   "id": "f767d172",
   "metadata": {},
   "outputs": [],
   "source": [
    "y_pred_low_ths = (y_pred_proba[:, 1] > best_ths).astype(int)"
   ]
  },
  {
   "cell_type": "code",
   "execution_count": null,
   "id": "8a7f3cc6",
   "metadata": {},
   "outputs": [],
   "source": [
    "cm = confusion_matrix(y_not_sc_test, y_pred_low_ths)\n",
    "print(\"Accuracy:\", accuracy_score(y_not_sc_test, y_pred_low_ths).round(2))\n",
    "print(\"Recall:\", round(recall_score(y_not_sc_test, y_pred_low_ths), 2))\n",
    "sns.heatmap(cm, xticklabels=axis_labels, yticklabels=axis_labels, cbar=False, annot=True, cmap=cmap)\n",
    "plt.ylabel('Etiquetas reales')\n",
    "plt.xlabel('Etiquetas predichas');"
   ]
  },
  {
   "cell_type": "code",
   "execution_count": null,
   "id": "5107dd04",
   "metadata": {
    "jupyter": {
     "source_hidden": true
    }
   },
   "outputs": [],
   "source": [
    "print( f' Se concluye que el mejor umbral para decidir es el del {round(best_ths*100,0)}%')"
   ]
  }
 ],
 "metadata": {
  "kernelspec": {
   "display_name": "Python 3 (ipykernel)",
   "language": "python",
   "name": "python3"
  },
  "language_info": {
   "codemirror_mode": {
    "name": "ipython",
    "version": 3
   },
   "file_extension": ".py",
   "mimetype": "text/x-python",
   "name": "python",
   "nbconvert_exporter": "python",
   "pygments_lexer": "ipython3",
   "version": "3.7.11"
  }
 },
 "nbformat": 4,
 "nbformat_minor": 5
}
